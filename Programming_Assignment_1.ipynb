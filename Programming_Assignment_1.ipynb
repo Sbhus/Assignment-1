{
  "nbformat": 4,
  "nbformat_minor": 0,
  "metadata": {
    "colab": {
      "provenance": [],
      "authorship_tag": "ABX9TyNWN7TRRS9s5HixmjepTK9O",
      "include_colab_link": true
    },
    "kernelspec": {
      "name": "python3",
      "display_name": "Python 3"
    },
    "language_info": {
      "name": "python"
    }
  },
  "cells": [
    {
      "cell_type": "markdown",
      "metadata": {
        "id": "view-in-github",
        "colab_type": "text"
      },
      "source": [
        "<a href=\"https://colab.research.google.com/github/Sbhus/Assignment-1/blob/main/Programming_Assignment_1.ipynb\" target=\"_parent\"><img src=\"https://colab.research.google.com/assets/colab-badge.svg\" alt=\"Open In Colab\"/></a>"
      ]
    },
    {
      "cell_type": "markdown",
      "source": [
        "## 1.\tWrite a Python program to print \"Hello Python\""
      ],
      "metadata": {
        "id": "usdxKEieHL02"
      }
    },
    {
      "cell_type": "code",
      "source": [
        "print(\"Hello Python\")"
      ],
      "metadata": {
        "colab": {
          "base_uri": "https://localhost:8080/"
        },
        "id": "4wEgtkYVHSvN",
        "outputId": "5b670897-f7cd-4a75-dd21-f99e9c30cc1e"
      },
      "execution_count": 1,
      "outputs": [
        {
          "output_type": "stream",
          "name": "stdout",
          "text": [
            "Hello Python\n"
          ]
        }
      ]
    },
    {
      "cell_type": "markdown",
      "source": [
        "## 2.\tWrite a Python program to do arithmetical operations addition and division.?"
      ],
      "metadata": {
        "id": "SEAdOEdaHYyB"
      }
    },
    {
      "cell_type": "code",
      "source": [
        "A = 3\n",
        "B = 2\n",
        "\n",
        "sum = A+B\n",
        "div = A/B\n",
        "\n",
        "print(f\"The sum of {A} & {B} is : {sum}\")\n",
        "print(f\"The div of {A} & {B} is : {div}\")"
      ],
      "metadata": {
        "colab": {
          "base_uri": "https://localhost:8080/"
        },
        "id": "_QAR7jegHbjD",
        "outputId": "c1e1e22b-4da1-4c12-9897-9d6d8780cbd6"
      },
      "execution_count": 4,
      "outputs": [
        {
          "output_type": "stream",
          "name": "stdout",
          "text": [
            "The sum of 3 & 2 is : 5\n",
            "The div of 3 & 2 is : 1.5\n"
          ]
        }
      ]
    },
    {
      "cell_type": "markdown",
      "source": [
        "## 3.\tWrite a Python program to find the area of a triangle?"
      ],
      "metadata": {
        "id": "98aLoPrRI3jI"
      }
    },
    {
      "cell_type": "code",
      "source": [
        "A = float(input(\"Enter the length of first side : \"))\n",
        "B = float(input(\"Enter the length of second side : \"))\n",
        "C = float(input(\"Enter the length of third side : \"))\n",
        "\n",
        "P = (A+B+C)\n",
        "S = P/2\n",
        "\n",
        "area = (S-(S-A)*(S-B)*(S-C))*0.5\n",
        "print(f\"Area of triangle : {area}\")"
      ],
      "metadata": {
        "colab": {
          "base_uri": "https://localhost:8080/"
        },
        "id": "3GonmaKoI963",
        "outputId": "63a0d253-4adb-4341-abed-a1c420ceeb7a"
      },
      "execution_count": 23,
      "outputs": [
        {
          "output_type": "stream",
          "name": "stdout",
          "text": [
            "Enter the length of first side : 2\n",
            "Enter the length of second side : 3\n",
            "Enter the length of third side : 4\n",
            "Area of triangle : 1.3125\n"
          ]
        }
      ]
    },
    {
      "cell_type": "markdown",
      "source": [
        "## 4.\tWrite a Python program to swap two variables?"
      ],
      "metadata": {
        "id": "5zdNyk8yg4Ru"
      }
    },
    {
      "cell_type": "code",
      "source": [
        "A = int(input(\"Enter the value of A : \"))\n",
        "B = int(input(\"Enter the value of B : \"))\n",
        "temp = A\n",
        "A = B\n",
        "B = temp\n",
        "\n",
        "print(\"after swapping : \")\n",
        "print(\"value of A :\",A)\n",
        "print(\"value of B :\",B)"
      ],
      "metadata": {
        "colab": {
          "base_uri": "https://localhost:8080/"
        },
        "id": "QNFgcVn9g68x",
        "outputId": "195e6b1f-9c88-445f-9289-5eb8338ec7ca"
      },
      "execution_count": 28,
      "outputs": [
        {
          "output_type": "stream",
          "name": "stdout",
          "text": [
            "Enter the value of A : 4\n",
            "Enter the value of B : 5\n",
            "after swapping : \n",
            "value of A : 5\n",
            "value of B : 4\n"
          ]
        },
        {
          "output_type": "execute_result",
          "data": {
            "text/plain": [
              "11531040"
            ]
          },
          "metadata": {},
          "execution_count": 28
        }
      ]
    },
    {
      "cell_type": "markdown",
      "source": [
        "## 5.\tWrite a Python program to generate a random number?"
      ],
      "metadata": {
        "id": "t4a5fA61rmh9"
      }
    },
    {
      "cell_type": "code",
      "source": [
        "num = random.randint(0,1000)\n",
        "print(num)"
      ],
      "metadata": {
        "colab": {
          "base_uri": "https://localhost:8080/"
        },
        "id": "hT9F3kq_rnyr",
        "outputId": "959d9010-dba7-4d9e-d293-798b3122e0a9"
      },
      "execution_count": 60,
      "outputs": [
        {
          "output_type": "stream",
          "name": "stdout",
          "text": [
            "712\n"
          ]
        }
      ]
    }
  ]
}