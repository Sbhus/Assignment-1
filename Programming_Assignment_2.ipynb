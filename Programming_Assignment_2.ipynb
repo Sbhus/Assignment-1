{
  "nbformat": 4,
  "nbformat_minor": 0,
  "metadata": {
    "colab": {
      "provenance": [],
      "authorship_tag": "ABX9TyMZU5H8ABqUryR1Oz8914Qz",
      "include_colab_link": true
    },
    "kernelspec": {
      "name": "python3",
      "display_name": "Python 3"
    },
    "language_info": {
      "name": "python"
    }
  },
  "cells": [
    {
      "cell_type": "markdown",
      "metadata": {
        "id": "view-in-github",
        "colab_type": "text"
      },
      "source": [
        "<a href=\"https://colab.research.google.com/github/Sbhus/Assignment-1/blob/main/Programming_Assignment_2.ipynb\" target=\"_parent\"><img src=\"https://colab.research.google.com/assets/colab-badge.svg\" alt=\"Open In Colab\"/></a>"
      ]
    },
    {
      "cell_type": "markdown",
      "source": [
        "## 1.\tWrite a Python program to convert kilometers to miles?"
      ],
      "metadata": {
        "id": "x0KSH-G5wfe4"
      }
    },
    {
      "cell_type": "code",
      "source": [
        "KM = float(input(\"Enter distance in km : \"))\n",
        "Miles = KM*0.621\n",
        "\n",
        "print(f\"The distance will be in miles : {Miles} \")"
      ],
      "metadata": {
        "colab": {
          "base_uri": "https://localhost:8080/"
        },
        "id": "9UP2gmlfwhV2",
        "outputId": "b8549f15-1f07-4d92-e370-454df144fc87"
      },
      "execution_count": null,
      "outputs": [
        {
          "output_type": "stream",
          "name": "stdout",
          "text": [
            "Enter distance in km : 5\n",
            "The distance will be in miles : 3.105 \n"
          ]
        }
      ]
    },
    {
      "cell_type": "markdown",
      "source": [
        "## 2.\tWrite a Python program to convert Celsius to Fahrenheit?"
      ],
      "metadata": {
        "id": "Ncup7HVnjcSU"
      }
    },
    {
      "cell_type": "code",
      "source": [
        "celsius = float(input(\"Enter distance in celsius : \"))\n",
        "fehrenhite = (celsius*1.8)+32\n",
        "\n",
        "print(f\"The temperature will be in fehrenhite : {fehrenhite} \")"
      ],
      "metadata": {
        "colab": {
          "base_uri": "https://localhost:8080/"
        },
        "id": "1gxOtu03jdyV",
        "outputId": "7913d1a7-e2c4-406b-b4c0-b2610a333ede"
      },
      "execution_count": 10,
      "outputs": [
        {
          "output_type": "stream",
          "name": "stdout",
          "text": [
            "Enter distance in celsius : 32\n",
            "The temperature will be in fehrenhite : 89.6 \n"
          ]
        }
      ]
    },
    {
      "cell_type": "markdown",
      "source": [
        "## 3.\tWrite a Python program to display calendar?"
      ],
      "metadata": {
        "id": "HCgPQEHmWhm9"
      }
    },
    {
      "cell_type": "code",
      "source": [
        "print(calendar.month(2023,2))"
      ],
      "metadata": {
        "colab": {
          "base_uri": "https://localhost:8080/"
        },
        "id": "NibfildnWj_q",
        "outputId": "14e16b30-04a3-4858-ba2d-a43a6afbea2f"
      },
      "execution_count": 20,
      "outputs": [
        {
          "output_type": "stream",
          "name": "stdout",
          "text": [
            "   February 2023\n",
            "Mo Tu We Th Fr Sa Su\n",
            "       1  2  3  4  5\n",
            " 6  7  8  9 10 11 12\n",
            "13 14 15 16 17 18 19\n",
            "20 21 22 23 24 25 26\n",
            "27 28\n",
            "\n"
          ]
        }
      ]
    },
    {
      "cell_type": "markdown",
      "source": [
        "## 4.\tWrite a Python program to solve quadratic equation?"
      ],
      "metadata": {
        "id": "azKXQC7QjZR_"
      }
    },
    {
      "cell_type": "code",
      "source": [
        "import cmath\n",
        "\n",
        "a = 1\n",
        "b = 5\n",
        "c = 6\n",
        "\n",
        "# calculate the discriminant\n",
        "d = (b**2) - (4*a*c)\n",
        "\n",
        "# find two solutions\n",
        "sol1 = (-b-cmath.sqrt(d))/(2*a)\n",
        "sol2 = (-b+cmath.sqrt(d))/(2*a)\n",
        "\n",
        "print('The solution are {0} and {1}'.format(sol1,sol2))"
      ],
      "metadata": {
        "colab": {
          "base_uri": "https://localhost:8080/"
        },
        "id": "vL-F4_xUoY2-",
        "outputId": "8c6635a5-449c-4873-82d2-792cf5921a3f"
      },
      "execution_count": 22,
      "outputs": [
        {
          "output_type": "stream",
          "name": "stdout",
          "text": [
            "The solution are (-3+0j) and (-2+0j)\n"
          ]
        }
      ]
    },
    {
      "cell_type": "markdown",
      "source": [
        "## 5.\tWrite a Python program to swap two variables without temp variable?"
      ],
      "metadata": {
        "id": "YMHBli2epFw-"
      }
    },
    {
      "cell_type": "code",
      "source": [
        "A = int(input(\"Enter value of A : \"))\n",
        "B = int(input(\"Enter value of B : \"))\n",
        "\n",
        "A = A+B\n",
        "B = A-B\n",
        "A = A-B\n",
        "\n",
        "print(\"after swapping values\")\n",
        "\n",
        "print(f\"Value of A is : {A} \")\n",
        "print(f\"Value of B is : {B} \")\n"
      ],
      "metadata": {
        "colab": {
          "base_uri": "https://localhost:8080/"
        },
        "id": "lS7UdZJfpHBD",
        "outputId": "cec41af8-9ca8-4fdf-f4ab-6853f3673065"
      },
      "execution_count": 14,
      "outputs": [
        {
          "output_type": "stream",
          "name": "stdout",
          "text": [
            "Enter value of A : 19\n",
            "Enter value of B : 5\n",
            "after swapping values\n",
            "Value of A is : 5 \n",
            "Value of B is : 19 \n"
          ]
        }
      ]
    }
  ]
}